{
 "cells": [
  {
   "cell_type": "markdown",
   "metadata": {},
   "source": [
    "# Question 1"
   ]
  },
  {
   "cell_type": "markdown",
   "metadata": {},
   "source": [
    "### Part a)"
   ]
  },
  {
   "cell_type": "code",
   "execution_count": 19,
   "metadata": {},
   "outputs": [],
   "source": [
    "import pandas as pd\n",
    "import numpy as np\n",
    "import matplotlib.pyplot as plt\n",
    "import seaborn as sns\n",
    "%matplotlib inline"
   ]
  },
  {
   "cell_type": "code",
   "execution_count": 20,
   "metadata": {},
   "outputs": [],
   "source": [
    "#load the dataset\n",
    "df = pd.read_csv(\"/Users/akritisharma/Documents/shopify_dataScienceChallenge.csv\")\n"
   ]
  },
  {
   "cell_type": "code",
   "execution_count": 21,
   "metadata": {},
   "outputs": [
    {
     "data": {
      "text/plain": [
       "count      5002.000000\n",
       "mean       3144.556003\n",
       "std       41274.303492\n",
       "min          90.000000\n",
       "25%         163.000000\n",
       "50%         284.000000\n",
       "75%         390.000000\n",
       "max      704000.000000\n",
       "Name: order_amount, dtype: float64"
      ]
     },
     "execution_count": 21,
     "metadata": {},
     "output_type": "execute_result"
    }
   ],
   "source": [
    "#obtain summary statistics for order_amount\n",
    "df['order_amount'].describe()"
   ]
  },
  {
   "attachments": {},
   "cell_type": "markdown",
   "metadata": {},
   "source": [
    "From the above summary statistics we see that the mean order amount is $3144.55. We also see that there is a wide range of values as described by the maximum and minimum, and that the median is a lot smaller than the mean. This indicates the presence of outliers and that it might be these outliers that are pulling the average order value up and away from the median. The samller median value is also indicative of skewed data. To confirm this, I let us look at the boxplot for this variable."
   ]
  },
  {
   "cell_type": "code",
   "execution_count": 22,
   "metadata": {},
   "outputs": [
    {
     "name": "stderr",
     "output_type": "stream",
     "text": [
      "/Users/akritisharma/opt/anaconda3/lib/python3.8/site-packages/seaborn/_decorators.py:36: FutureWarning: Pass the following variable as a keyword arg: x. From version 0.12, the only valid positional argument will be `data`, and passing other arguments without an explicit keyword will result in an error or misinterpretation.\n",
      "  warnings.warn(\n"
     ]
    },
    {
     "data": {
      "image/png": "[encoded data removed]",
      "text/plain": [
       "<Figure size 432x288 with 1 Axes>"
      ]
     },
     "metadata": {
      "needs_background": "light"
     },
     "output_type": "display_data"
    }
   ],
   "source": [
    "sns.boxplot(df[\"order_amount\"])\n",
    "plt.show()"
   ]
  },
  {
   "cell_type": "markdown",
   "metadata": {},
   "source": [
    "In the above plot, we can barely see the box and only see outliers, thus confirming our hypothesis. Let us try and get a btter sense of the distribution of this variable by changing the scale of the x-axis"
   ]
  },
  {
   "cell_type": "code",
   "execution_count": 23,
   "metadata": {},
   "outputs": [
    {
     "name": "stderr",
     "output_type": "stream",
     "text": [
      "/Users/akritisharma/opt/anaconda3/lib/python3.8/site-packages/seaborn/_decorators.py:36: FutureWarning: Pass the following variable as a keyword arg: x. From version 0.12, the only valid positional argument will be `data`, and passing other arguments without an explicit keyword will result in an error or misinterpretation.\n",
      "  warnings.warn(\n"
     ]
    },
    {
     "data": {
      "image/png": "[encoded data removed]",
      "text/plain": [
       "<Figure size 432x288 with 1 Axes>"
      ]
     },
     "metadata": {
      "needs_background": "light"
     },
     "output_type": "display_data"
    }
   ],
   "source": [
    "sns.boxplot(df[\"order_amount\"])\n",
    "plt.xlim(0, 1000)\n",
    "plt.show()"
   ]
  },
  {
   "attachments": {},
   "cell_type": "markdown",
   "metadata": {},
   "source": [
    "From the above we see that the data contains quite a few outliers and that 50% of the orders are between 163 and\n",
    "390. Since this data is heavily skewed and contains outliers of extremely large amounts, an average is not an appropriate measure of central tendency."
   ]
  },
  {
   "cell_type": "markdown",
   "metadata": {},
   "source": [
    "### Part b)"
   ]
  },
  {
   "attachments": {},
   "cell_type": "markdown",
   "metadata": {},
   "source": [
    "A more appropriate metric to capture the central point of this variable would be the median order value."
   ]
  },
  {
   "attachments": {},
   "cell_type": "markdown",
   "metadata": {},
   "source": [
    "### Part c)\n",
    "\n",
    "The median order value is $284. This is more reflective of the order of most values and not affected by the presence of very large outliers as much as the mean."
   ]
  },
  {
   "cell_type": "markdown",
   "metadata": {},
   "source": [
    "# Question 2"
   ]
  },
  {
   "cell_type": "markdown",
   "metadata": {},
   "source": [
    "### Part a)"
   ]
  },
  {
   "attachments": {},
   "cell_type": "markdown",
   "metadata": {},
   "source": [
    "SELECT ShipperID, count(ShipperID) as ShipperID_Count  \n",
    "FROM Orders  \n",
    "GROUP by ShipperID  \n",
    "LIMIT 1\n",
    "\n",
    "**Based on the output table, ShipperID 1 i.e. Speedy Express had a total of 54 orders.**"
   ]
  },
  {
   "cell_type": "markdown",
   "metadata": {},
   "source": [
    "### Part b)"
   ]
  },
  {
   "attachments": {},
   "cell_type": "markdown",
   "metadata": {},
   "source": [
    "SELECT *, COUNT(ord.EmployeeID) as employee_orders  \n",
    "FROM Orders as ord  \n",
    "JOIN Employees as emp  \n",
    "ON ord.EmployeeID = emp.EMployeeID  \n",
    "GROUP by ord.EmployeeID  \n",
    "ORDER by employee_orders DESC  \n",
    "LIMIT 1  \n",
    "  \n",
    "**Last Name of Employee with the most orders: Peacock**"
   ]
  },
  {
   "cell_type": "markdown",
   "metadata": {},
   "source": [
    "### Part c)"
   ]
  },
  {
   "attachments": {},
   "cell_type": "markdown",
   "metadata": {},
   "source": [
    "SELECT *, SUM(odt.Quantity) as total_quantity  \n",
    "FROM Orders as ord\n",
    "JOIN OrderDetails as odt  \n",
    "ON ord.OrderID = odt.OrderID  \n",
    "JOIN Products as prd  \n",
    "ON odt.ProductID = prd.ProductID  \n",
    "JOIN Customers as cst  \n",
    "ON ord.CustomerID = cst.CustomerID  \n",
    "WHERE cst.Country = \"Germany\"  \n",
    "GROUP by odt.ProductID, Country  \n",
    "ORDER by total_quantity DESC\n",
    "LIMIT 1  \n",
    "  \n",
    "**Boston Crab Meat was the most ordered product by customers in Germany.**"
   ]
  },
  {
   "cell_type": "code",
   "execution_count": null,
   "metadata": {},
   "outputs": [],
   "source": []
  }
 ],
 "metadata": {
  "kernelspec": {
   "display_name": "Python 3",
   "language": "python",
   "name": "python3"
  },
  "language_info": {
   "codemirror_mode": {
    "name": "ipython",
    "version": 3
   },
   "file_extension": ".py",
   "mimetype": "text/x-python",
   "name": "python",
   "nbconvert_exporter": "python",
   "pygments_lexer": "ipython3",
   "version": "3.8.5"
  }
 },
 "nbformat": 4,
 "nbformat_minor": 4
}
